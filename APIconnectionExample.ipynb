{
  "nbformat": 4,
  "nbformat_minor": 0,
  "metadata": {
    "colab": {
      "name": "APIconnectionExample.ipynb",
      "provenance": [],
      "collapsed_sections": []
    },
    "kernelspec": {
      "name": "python3",
      "display_name": "Python 3"
    }
  },
  "cells": [
    {
      "cell_type": "markdown",
      "metadata": {
        "id": "Kw6mjdc7li7b"
      },
      "source": [
        "#The generic format for get REST requests\n",
        "\n",
        "This uses the requests library which may need to be installed in your local environment using pip "
      ]
    },
    {
      "cell_type": "code",
      "metadata": {
        "colab": {
          "base_uri": "https://localhost:8080/"
        },
        "id": "9HuvO3QNjfpE",
        "outputId": "6750158a-7ae8-492b-b2f5-293a1b5acc0e"
      },
      "source": [
        "import requests                                 # To use request package in current program \n",
        "import pandas as pd\n",
        "import json\n",
        "import uuid\n",
        "import time \n",
        "import numpy as np\n",
        "\n",
        "url = 'https://jsonplaceholder.typicode.com/todos/1' \n",
        "response = requests.get(url)        # To execute get request \n",
        "print(response.status_code)     # To print http response code  \n",
        "print(response.text)            # To print formatted JSON response\n",
        "\n",
        "\n",
        "\n"
      ],
      "execution_count": null,
      "outputs": [
        {
          "output_type": "stream",
          "text": [
            "200\n",
            "{\n",
            "  \"userId\": 1,\n",
            "  \"id\": 1,\n",
            "  \"title\": \"delectus aut autem\",\n",
            "  \"completed\": false\n",
            "}\n"
          ],
          "name": "stdout"
        }
      ]
    },
    {
      "cell_type": "markdown",
      "metadata": {
        "id": "zBNhdvGEoI1D"
      },
      "source": [
        "#Get data from Lumatik API"
      ]
    },
    {
      "cell_type": "markdown",
      "metadata": {
        "id": "TVfLqjYXoWc6"
      },
      "source": [
        "Import data"
      ]
    },
    {
      "cell_type": "code",
      "metadata": {
        "id": "D-Hj8A0JjoWe",
        "colab": {
          "base_uri": "https://localhost:8080/"
        },
        "outputId": "fae33c94-df64-4c4f-bfb3-6fd523814bdf"
      },
      "source": [
        "dataURL = 'http://sturdy-apricot-305816.ew.r.appspot.com/Data/'\n",
        "response = requests.get(dataURL)        # To execute get request \n",
        "print(response.status_code)     # To print http response code  \n",
        "data = response.json()\n",
        "                  # To print formatted JSON response\n"
      ],
      "execution_count": null,
      "outputs": [
        {
          "output_type": "stream",
          "text": [
            "200\n"
          ],
          "name": "stdout"
        }
      ]
    },
    {
      "cell_type": "markdown",
      "metadata": {
        "id": "rofJcpbeoePn"
      },
      "source": [
        "Convert data to pandas dataframe "
      ]
    },
    {
      "cell_type": "code",
      "metadata": {
        "colab": {
          "base_uri": "https://localhost:8080/",
          "height": 142
        },
        "id": "ykcVh-J5mdcQ",
        "outputId": "75ccac09-08dd-4c47-b394-3312ca5d4bc5"
      },
      "source": [
        "dfdata = pd.DataFrame.from_records(data)\n",
        "dfdata"
      ],
      "execution_count": null,
      "outputs": [
        {
          "output_type": "execute_result",
          "data": {
            "text/html": [
              "<div>\n",
              "<style scoped>\n",
              "    .dataframe tbody tr th:only-of-type {\n",
              "        vertical-align: middle;\n",
              "    }\n",
              "\n",
              "    .dataframe tbody tr th {\n",
              "        vertical-align: top;\n",
              "    }\n",
              "\n",
              "    .dataframe thead th {\n",
              "        text-align: right;\n",
              "    }\n",
              "</style>\n",
              "<table border=\"1\" class=\"dataframe\">\n",
              "  <thead>\n",
              "    <tr style=\"text-align: right;\">\n",
              "      <th></th>\n",
              "      <th>DataID</th>\n",
              "      <th>Writetime</th>\n",
              "      <th>Rval</th>\n",
              "      <th>Gval</th>\n",
              "      <th>Bval</th>\n",
              "      <th>UVAval</th>\n",
              "      <th>UVBval</th>\n",
              "      <th>VitDval</th>\n",
              "      <th>UserID</th>\n",
              "      <th>DeviceID</th>\n",
              "    </tr>\n",
              "  </thead>\n",
              "  <tbody>\n",
              "    <tr>\n",
              "      <th>0</th>\n",
              "      <td>366ff60e-802e-4501-beb9-7e31e868a0ce</td>\n",
              "      <td>None</td>\n",
              "      <td>123</td>\n",
              "      <td>12</td>\n",
              "      <td>43</td>\n",
              "      <td>213</td>\n",
              "      <td>43</td>\n",
              "      <td>32</td>\n",
              "      <td>432</td>\n",
              "      <td>12</td>\n",
              "    </tr>\n",
              "    <tr>\n",
              "      <th>1</th>\n",
              "      <td>8730b9b9-5f85-4ce4-acc1-760914f3242c</td>\n",
              "      <td>None</td>\n",
              "      <td>123</td>\n",
              "      <td>123</td>\n",
              "      <td>123</td>\n",
              "      <td>123</td>\n",
              "      <td>123</td>\n",
              "      <td>123</td>\n",
              "      <td>123</td>\n",
              "      <td>123</td>\n",
              "    </tr>\n",
              "    <tr>\n",
              "      <th>2</th>\n",
              "      <td>8e483899-f8be-4363-b6f3-8b029f913015</td>\n",
              "      <td>None</td>\n",
              "      <td>681</td>\n",
              "      <td>933</td>\n",
              "      <td>234</td>\n",
              "      <td>659</td>\n",
              "      <td>127</td>\n",
              "      <td>654</td>\n",
              "      <td>1</td>\n",
              "      <td>1</td>\n",
              "    </tr>\n",
              "  </tbody>\n",
              "</table>\n",
              "</div>"
            ],
            "text/plain": [
              "                                 DataID Writetime  ...  UserID  DeviceID\n",
              "0  366ff60e-802e-4501-beb9-7e31e868a0ce      None  ...     432        12\n",
              "1  8730b9b9-5f85-4ce4-acc1-760914f3242c      None  ...     123       123\n",
              "2  8e483899-f8be-4363-b6f3-8b029f913015      None  ...       1         1\n",
              "\n",
              "[3 rows x 10 columns]"
            ]
          },
          "metadata": {
            "tags": []
          },
          "execution_count": 71
        }
      ]
    },
    {
      "cell_type": "code",
      "metadata": {
        "colab": {
          "base_uri": "https://localhost:8080/"
        },
        "id": "69Atcj0bnQ6y",
        "outputId": "97e08b93-8b65-412f-c77e-37e347534f4a"
      },
      "source": [
        "data[1]"
      ],
      "execution_count": null,
      "outputs": [
        {
          "output_type": "execute_result",
          "data": {
            "text/plain": [
              "{'Bval': 234,\n",
              " 'DataID': '10b41bd5-ad8f-4d61-a0d7-476a5280c5ac',\n",
              " 'DeviceID': 234,\n",
              " 'Gval': 234,\n",
              " 'Rval': 2342,\n",
              " 'UVAval': 234,\n",
              " 'UVBval': 234,\n",
              " 'UserID': 234,\n",
              " 'VitDval': 234,\n",
              " 'writetime': None}"
            ]
          },
          "metadata": {
            "tags": []
          },
          "execution_count": 26
        }
      ]
    },
    {
      "cell_type": "markdown",
      "metadata": {
        "id": "bK8PIqMkoyau"
      },
      "source": [
        "#Write data to Lumatik API \n",
        "\n"
      ]
    },
    {
      "cell_type": "markdown",
      "metadata": {
        "id": "zA1u34NlzcCQ"
      },
      "source": [
        "create single example dataset"
      ]
    },
    {
      "cell_type": "code",
      "metadata": {
        "colab": {
          "base_uri": "https://localhost:8080/"
        },
        "id": "jW4LD1Leo5aS",
        "outputId": "bf623437-13fe-4339-a0dc-0c692aa000e6"
      },
      "source": [
        "\n",
        "\n",
        "examplejson = {'Bval': 234,\n",
        " 'DeviceID': 1, #leave below 50\n",
        " 'Gval': np.random.randint(0,1000),\n",
        " 'Rval': np.random.randint(0,1000),\n",
        " 'UVAval': np.random.randint(0,1000),\n",
        " 'UVBval': np.random.randint(0,1000),\n",
        " 'UserID':1, #leave below 50\n",
        " 'VitDval': np.random.randint(0,1000),\n",
        " 'Writetime': int(time.time())}\n",
        "\n",
        "print (examplejson)\n",
        "\n"
      ],
      "execution_count": null,
      "outputs": [
        {
          "output_type": "stream",
          "text": [
            "{'Bval': 234, 'DeviceID': 1, 'Gval': 585, 'Rval': 651, 'UVAval': 510, 'UVBval': 218, 'UserID': 1, 'VitDval': 15, 'Writetime': 1615917012}\n"
          ],
          "name": "stdout"
        }
      ]
    },
    {
      "cell_type": "markdown",
      "metadata": {
        "id": "MZvPDVKEzhcc"
      },
      "source": [
        "Post data to API"
      ]
    },
    {
      "cell_type": "code",
      "metadata": {
        "colab": {
          "base_uri": "https://localhost:8080/"
        },
        "id": "PCvGGyT_pFn8",
        "outputId": "f783191a-820e-4d57-83df-f10bef1f8638"
      },
      "source": [
        "dataIN = requests.post('http://sturdy-apricot-305816.ew.r.appspot.com/Data/', json = examplejson)\n",
        "print(dataIN.text )"
      ],
      "execution_count": null,
      "outputs": [
        {
          "output_type": "stream",
          "text": [
            "{\"DataID\":\"9e2b5de2-6f11-4d36-99b9-82e12ca8bef4\",\"Writetime\":1615917012,\"Rval\":651,\"Gval\":585,\"Bval\":234,\"UVAval\":510,\"UVBval\":218,\"VitDval\":15,\"UserID\":1,\"DeviceID\":1}\n"
          ],
          "name": "stdout"
        }
      ]
    },
    {
      "cell_type": "markdown",
      "metadata": {
        "id": "So3LL1XGzuGz"
      },
      "source": [
        "Create Multiple test data"
      ]
    },
    {
      "cell_type": "code",
      "metadata": {
        "id": "2kvPiRPHtt_-"
      },
      "source": [
        "\n",
        "###WRITE DATA#####\n",
        "\n",
        "\n",
        "starttime = int(time.time())\n",
        "no_entries = 20 #max 200 plz\n",
        "time_interval = 5  #nothing too huge \n",
        "\n",
        "UserID = 4 #keep below 50\n",
        "\n",
        "\n",
        "for i in range(no_entries):\n",
        "  examplejson = {'Bval': 234,\n",
        " 'DeviceID': 1, #leave below 50\n",
        " 'Gval': np.random.randint(0,1000),\n",
        " 'Rval': np.random.randint(0,1000),\n",
        " 'UVAval': np.random.randint(0,1000),\n",
        " 'UVBval': np.random.randint(0,1000),\n",
        " 'UserID': UserID, #leave below 50\n",
        " 'VitDval': np.random.randint(0,1000),\n",
        " 'Writetime': starttime + i*time_interval}\n",
        "\n",
        "  dataIN = requests.post('http://sturdy-apricot-305816.ew.r.appspot.com/Data/', json = examplejson)\n",
        "\n",
        "\n"
      ],
      "execution_count": null,
      "outputs": []
    },
    {
      "cell_type": "code",
      "metadata": {
        "colab": {
          "base_uri": "https://localhost:8080/",
          "height": 779
        },
        "id": "nnv6fj_cu7Pw",
        "outputId": "617daaca-599f-449f-ac19-40f2d7e31b19"
      },
      "source": [
        "###### CHECK WRITE ######\n",
        "\n",
        "\n",
        "dataURL = 'http://sturdy-apricot-305816.ew.r.appspot.com/Data'\n",
        "response = requests.get(dataURL)        # To execute get request \n",
        "print(response.status_code)     # To print http response code  \n",
        "data = response.json()\n",
        "dfdata = pd.DataFrame.from_records(data)\n",
        "dfdata\n",
        "\n"
      ],
      "execution_count": null,
      "outputs": [
        {
          "output_type": "stream",
          "text": [
            "200\n"
          ],
          "name": "stdout"
        },
        {
          "output_type": "execute_result",
          "data": {
            "text/html": [
              "<div>\n",
              "<style scoped>\n",
              "    .dataframe tbody tr th:only-of-type {\n",
              "        vertical-align: middle;\n",
              "    }\n",
              "\n",
              "    .dataframe tbody tr th {\n",
              "        vertical-align: top;\n",
              "    }\n",
              "\n",
              "    .dataframe thead th {\n",
              "        text-align: right;\n",
              "    }\n",
              "</style>\n",
              "<table border=\"1\" class=\"dataframe\">\n",
              "  <thead>\n",
              "    <tr style=\"text-align: right;\">\n",
              "      <th></th>\n",
              "      <th>DataID</th>\n",
              "      <th>Writetime</th>\n",
              "      <th>Rval</th>\n",
              "      <th>Gval</th>\n",
              "      <th>Bval</th>\n",
              "      <th>UVAval</th>\n",
              "      <th>UVBval</th>\n",
              "      <th>VitDval</th>\n",
              "      <th>UserID</th>\n",
              "      <th>DeviceID</th>\n",
              "    </tr>\n",
              "  </thead>\n",
              "  <tbody>\n",
              "    <tr>\n",
              "      <th>0</th>\n",
              "      <td>b4b4accc-0432-4c32-961c-eff4b0863150</td>\n",
              "      <td>1615917057</td>\n",
              "      <td>677</td>\n",
              "      <td>708</td>\n",
              "      <td>234</td>\n",
              "      <td>854</td>\n",
              "      <td>494</td>\n",
              "      <td>537</td>\n",
              "      <td>5</td>\n",
              "      <td>1</td>\n",
              "    </tr>\n",
              "    <tr>\n",
              "      <th>1</th>\n",
              "      <td>17694e51-e7c4-4b32-b2a0-30910c515030</td>\n",
              "      <td>1615917062</td>\n",
              "      <td>557</td>\n",
              "      <td>155</td>\n",
              "      <td>234</td>\n",
              "      <td>194</td>\n",
              "      <td>740</td>\n",
              "      <td>968</td>\n",
              "      <td>5</td>\n",
              "      <td>1</td>\n",
              "    </tr>\n",
              "    <tr>\n",
              "      <th>2</th>\n",
              "      <td>059395da-f650-4d02-a845-f28065cafd63</td>\n",
              "      <td>1615917072</td>\n",
              "      <td>444</td>\n",
              "      <td>982</td>\n",
              "      <td>234</td>\n",
              "      <td>949</td>\n",
              "      <td>475</td>\n",
              "      <td>557</td>\n",
              "      <td>5</td>\n",
              "      <td>1</td>\n",
              "    </tr>\n",
              "    <tr>\n",
              "      <th>3</th>\n",
              "      <td>77af4a03-4b4f-42e5-b0ad-7d4befd9f22e</td>\n",
              "      <td>1615917077</td>\n",
              "      <td>520</td>\n",
              "      <td>857</td>\n",
              "      <td>234</td>\n",
              "      <td>226</td>\n",
              "      <td>288</td>\n",
              "      <td>380</td>\n",
              "      <td>5</td>\n",
              "      <td>1</td>\n",
              "    </tr>\n",
              "    <tr>\n",
              "      <th>4</th>\n",
              "      <td>12ad90c6-6f88-45d3-96b8-1bb155dbb16a</td>\n",
              "      <td>1615917082</td>\n",
              "      <td>886</td>\n",
              "      <td>306</td>\n",
              "      <td>234</td>\n",
              "      <td>499</td>\n",
              "      <td>544</td>\n",
              "      <td>418</td>\n",
              "      <td>5</td>\n",
              "      <td>1</td>\n",
              "    </tr>\n",
              "    <tr>\n",
              "      <th>5</th>\n",
              "      <td>b4bdf31e-4738-4cb3-819b-8408945b21b1</td>\n",
              "      <td>1615917087</td>\n",
              "      <td>761</td>\n",
              "      <td>446</td>\n",
              "      <td>234</td>\n",
              "      <td>34</td>\n",
              "      <td>443</td>\n",
              "      <td>914</td>\n",
              "      <td>5</td>\n",
              "      <td>1</td>\n",
              "    </tr>\n",
              "    <tr>\n",
              "      <th>6</th>\n",
              "      <td>a6f8f488-cf08-4e92-af1a-08b2de34ddde</td>\n",
              "      <td>1615917097</td>\n",
              "      <td>376</td>\n",
              "      <td>976</td>\n",
              "      <td>234</td>\n",
              "      <td>91</td>\n",
              "      <td>915</td>\n",
              "      <td>376</td>\n",
              "      <td>5</td>\n",
              "      <td>1</td>\n",
              "    </tr>\n",
              "    <tr>\n",
              "      <th>7</th>\n",
              "      <td>1572638e-3d98-4ab1-85c1-a8421c1fa2dd</td>\n",
              "      <td>1615917112</td>\n",
              "      <td>203</td>\n",
              "      <td>35</td>\n",
              "      <td>234</td>\n",
              "      <td>462</td>\n",
              "      <td>233</td>\n",
              "      <td>74</td>\n",
              "      <td>5</td>\n",
              "      <td>1</td>\n",
              "    </tr>\n",
              "    <tr>\n",
              "      <th>8</th>\n",
              "      <td>673ee100-51fb-4fde-a038-8ba28727b02e</td>\n",
              "      <td>1615917132</td>\n",
              "      <td>875</td>\n",
              "      <td>636</td>\n",
              "      <td>234</td>\n",
              "      <td>809</td>\n",
              "      <td>993</td>\n",
              "      <td>51</td>\n",
              "      <td>5</td>\n",
              "      <td>1</td>\n",
              "    </tr>\n",
              "    <tr>\n",
              "      <th>9</th>\n",
              "      <td>a888f1ec-7be9-4674-b829-f104cc86dee0</td>\n",
              "      <td>1615917137</td>\n",
              "      <td>801</td>\n",
              "      <td>302</td>\n",
              "      <td>234</td>\n",
              "      <td>455</td>\n",
              "      <td>656</td>\n",
              "      <td>476</td>\n",
              "      <td>5</td>\n",
              "      <td>1</td>\n",
              "    </tr>\n",
              "    <tr>\n",
              "      <th>10</th>\n",
              "      <td>651b9425-3d49-4ece-8f2b-0eba5016d335</td>\n",
              "      <td>1615917147</td>\n",
              "      <td>539</td>\n",
              "      <td>11</td>\n",
              "      <td>234</td>\n",
              "      <td>84</td>\n",
              "      <td>585</td>\n",
              "      <td>6</td>\n",
              "      <td>5</td>\n",
              "      <td>1</td>\n",
              "    </tr>\n",
              "    <tr>\n",
              "      <th>11</th>\n",
              "      <td>678950c7-1c16-4ddd-85ce-663f82a819bb</td>\n",
              "      <td>1615917214</td>\n",
              "      <td>510</td>\n",
              "      <td>201</td>\n",
              "      <td>234</td>\n",
              "      <td>508</td>\n",
              "      <td>443</td>\n",
              "      <td>759</td>\n",
              "      <td>4</td>\n",
              "      <td>1</td>\n",
              "    </tr>\n",
              "    <tr>\n",
              "      <th>12</th>\n",
              "      <td>66fc254c-96dc-4aae-af48-40276591fb60</td>\n",
              "      <td>1615917219</td>\n",
              "      <td>56</td>\n",
              "      <td>64</td>\n",
              "      <td>234</td>\n",
              "      <td>763</td>\n",
              "      <td>644</td>\n",
              "      <td>178</td>\n",
              "      <td>4</td>\n",
              "      <td>1</td>\n",
              "    </tr>\n",
              "    <tr>\n",
              "      <th>13</th>\n",
              "      <td>812d3530-a04f-43c0-ad4d-c2058f8f73da</td>\n",
              "      <td>1615917234</td>\n",
              "      <td>406</td>\n",
              "      <td>362</td>\n",
              "      <td>234</td>\n",
              "      <td>95</td>\n",
              "      <td>388</td>\n",
              "      <td>300</td>\n",
              "      <td>4</td>\n",
              "      <td>1</td>\n",
              "    </tr>\n",
              "    <tr>\n",
              "      <th>14</th>\n",
              "      <td>ea8e9985-8b07-409b-8e0d-2f1304a9ba13</td>\n",
              "      <td>1615917239</td>\n",
              "      <td>588</td>\n",
              "      <td>120</td>\n",
              "      <td>234</td>\n",
              "      <td>564</td>\n",
              "      <td>8</td>\n",
              "      <td>201</td>\n",
              "      <td>4</td>\n",
              "      <td>1</td>\n",
              "    </tr>\n",
              "    <tr>\n",
              "      <th>15</th>\n",
              "      <td>1649801e-7e95-4fce-b67c-e8863aadb43b</td>\n",
              "      <td>1615917244</td>\n",
              "      <td>536</td>\n",
              "      <td>449</td>\n",
              "      <td>234</td>\n",
              "      <td>445</td>\n",
              "      <td>116</td>\n",
              "      <td>104</td>\n",
              "      <td>4</td>\n",
              "      <td>1</td>\n",
              "    </tr>\n",
              "    <tr>\n",
              "      <th>16</th>\n",
              "      <td>1a8bcdc3-0394-455f-a68b-688d8744b76c</td>\n",
              "      <td>1615917259</td>\n",
              "      <td>651</td>\n",
              "      <td>232</td>\n",
              "      <td>234</td>\n",
              "      <td>940</td>\n",
              "      <td>416</td>\n",
              "      <td>157</td>\n",
              "      <td>4</td>\n",
              "      <td>1</td>\n",
              "    </tr>\n",
              "    <tr>\n",
              "      <th>17</th>\n",
              "      <td>34c08241-960a-4a33-b155-23e4c495e3cd</td>\n",
              "      <td>1615917274</td>\n",
              "      <td>628</td>\n",
              "      <td>149</td>\n",
              "      <td>234</td>\n",
              "      <td>232</td>\n",
              "      <td>538</td>\n",
              "      <td>507</td>\n",
              "      <td>4</td>\n",
              "      <td>1</td>\n",
              "    </tr>\n",
              "    <tr>\n",
              "      <th>18</th>\n",
              "      <td>516f40b2-38e7-420b-8fbb-24079da5de90</td>\n",
              "      <td>1615917279</td>\n",
              "      <td>903</td>\n",
              "      <td>828</td>\n",
              "      <td>234</td>\n",
              "      <td>446</td>\n",
              "      <td>208</td>\n",
              "      <td>760</td>\n",
              "      <td>4</td>\n",
              "      <td>1</td>\n",
              "    </tr>\n",
              "    <tr>\n",
              "      <th>19</th>\n",
              "      <td>e7115d93-b6f4-462e-9652-8a38d0182feb</td>\n",
              "      <td>1615917289</td>\n",
              "      <td>738</td>\n",
              "      <td>481</td>\n",
              "      <td>234</td>\n",
              "      <td>911</td>\n",
              "      <td>916</td>\n",
              "      <td>324</td>\n",
              "      <td>4</td>\n",
              "      <td>1</td>\n",
              "    </tr>\n",
              "    <tr>\n",
              "      <th>20</th>\n",
              "      <td>3600dfb4-eaaa-4413-899b-89e1edf45976</td>\n",
              "      <td>1615917294</td>\n",
              "      <td>450</td>\n",
              "      <td>675</td>\n",
              "      <td>234</td>\n",
              "      <td>647</td>\n",
              "      <td>499</td>\n",
              "      <td>21</td>\n",
              "      <td>4</td>\n",
              "      <td>1</td>\n",
              "    </tr>\n",
              "    <tr>\n",
              "      <th>21</th>\n",
              "      <td>cb96d5fc-fb25-4b2b-bbcb-4c638137a14c</td>\n",
              "      <td>1615917304</td>\n",
              "      <td>913</td>\n",
              "      <td>551</td>\n",
              "      <td>234</td>\n",
              "      <td>920</td>\n",
              "      <td>150</td>\n",
              "      <td>48</td>\n",
              "      <td>4</td>\n",
              "      <td>1</td>\n",
              "    </tr>\n",
              "    <tr>\n",
              "      <th>22</th>\n",
              "      <td>c0c08a9f-229e-4d2e-80f8-87ee256434f5</td>\n",
              "      <td>1615917309</td>\n",
              "      <td>228</td>\n",
              "      <td>120</td>\n",
              "      <td>234</td>\n",
              "      <td>311</td>\n",
              "      <td>985</td>\n",
              "      <td>908</td>\n",
              "      <td>4</td>\n",
              "      <td>1</td>\n",
              "    </tr>\n",
              "  </tbody>\n",
              "</table>\n",
              "</div>"
            ],
            "text/plain": [
              "                                  DataID   Writetime  ...  UserID  DeviceID\n",
              "0   b4b4accc-0432-4c32-961c-eff4b0863150  1615917057  ...       5         1\n",
              "1   17694e51-e7c4-4b32-b2a0-30910c515030  1615917062  ...       5         1\n",
              "2   059395da-f650-4d02-a845-f28065cafd63  1615917072  ...       5         1\n",
              "3   77af4a03-4b4f-42e5-b0ad-7d4befd9f22e  1615917077  ...       5         1\n",
              "4   12ad90c6-6f88-45d3-96b8-1bb155dbb16a  1615917082  ...       5         1\n",
              "5   b4bdf31e-4738-4cb3-819b-8408945b21b1  1615917087  ...       5         1\n",
              "6   a6f8f488-cf08-4e92-af1a-08b2de34ddde  1615917097  ...       5         1\n",
              "7   1572638e-3d98-4ab1-85c1-a8421c1fa2dd  1615917112  ...       5         1\n",
              "8   673ee100-51fb-4fde-a038-8ba28727b02e  1615917132  ...       5         1\n",
              "9   a888f1ec-7be9-4674-b829-f104cc86dee0  1615917137  ...       5         1\n",
              "10  651b9425-3d49-4ece-8f2b-0eba5016d335  1615917147  ...       5         1\n",
              "11  678950c7-1c16-4ddd-85ce-663f82a819bb  1615917214  ...       4         1\n",
              "12  66fc254c-96dc-4aae-af48-40276591fb60  1615917219  ...       4         1\n",
              "13  812d3530-a04f-43c0-ad4d-c2058f8f73da  1615917234  ...       4         1\n",
              "14  ea8e9985-8b07-409b-8e0d-2f1304a9ba13  1615917239  ...       4         1\n",
              "15  1649801e-7e95-4fce-b67c-e8863aadb43b  1615917244  ...       4         1\n",
              "16  1a8bcdc3-0394-455f-a68b-688d8744b76c  1615917259  ...       4         1\n",
              "17  34c08241-960a-4a33-b155-23e4c495e3cd  1615917274  ...       4         1\n",
              "18  516f40b2-38e7-420b-8fbb-24079da5de90  1615917279  ...       4         1\n",
              "19  e7115d93-b6f4-462e-9652-8a38d0182feb  1615917289  ...       4         1\n",
              "20  3600dfb4-eaaa-4413-899b-89e1edf45976  1615917294  ...       4         1\n",
              "21  cb96d5fc-fb25-4b2b-bbcb-4c638137a14c  1615917304  ...       4         1\n",
              "22  c0c08a9f-229e-4d2e-80f8-87ee256434f5  1615917309  ...       4         1\n",
              "\n",
              "[23 rows x 10 columns]"
            ]
          },
          "metadata": {
            "tags": []
          },
          "execution_count": 84
        }
      ]
    },
    {
      "cell_type": "markdown",
      "metadata": {
        "id": "7eK-PMtdLJX4"
      },
      "source": [
        "#Visualise"
      ]
    },
    {
      "cell_type": "code",
      "metadata": {
        "colab": {
          "base_uri": "https://localhost:8080/",
          "height": 296
        },
        "id": "9sW2vWGH1Mw3",
        "outputId": "576d8ef5-d087-4f98-e0e7-5ba13b5db103"
      },
      "source": [
        "dfdata.plot('Writetime','Gval')"
      ],
      "execution_count": null,
      "outputs": [
        {
          "output_type": "execute_result",
          "data": {
            "text/plain": [
              "<matplotlib.axes._subplots.AxesSubplot at 0x7f10d8f4bdd0>"
            ]
          },
          "metadata": {
            "tags": []
          },
          "execution_count": 87
        },
        {
          "output_type": "display_data",
          "data": {
            "image/png": "[encoded data removed]",
            "text/plain": [
              "<Figure size 432x288 with 1 Axes>"
            ]
          },
          "metadata": {
            "tags": [],
            "needs_background": "light"
          }
        }
      ]
    },
    {
      "cell_type": "code",
      "metadata": {
        "id": "zPiWOQ6sKyQ7"
      },
      "source": [
        ""
      ],
      "execution_count": null,
      "outputs": []
    }
  ]
}